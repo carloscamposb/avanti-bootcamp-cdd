{
 "cells": [
  {
   "cell_type": "markdown",
   "id": "e6cf8925-8c70-48dc-bfce-c2bf26e18e00",
   "metadata": {},
   "source": [
    "### Tratamento e Transformação de Dados:\n",
    "\n",
    "1. Tratamento e Transformação de Dados\n",
    "2. Limpeza de dados faltantes.\n",
    "3. Normalização dos valores.\n",
    "4. Codificação de variáveis categóricas.\n",
    "5. Realização de transformações necessárias para os modelos. ."
   ]
  },
  {
   "cell_type": "markdown",
   "id": "f5178737-b5f0-47e4-b51f-faf7aaffc67a",
   "metadata": {},
   "source": [
    "#### Imports"
   ]
  },
  {
   "cell_type": "code",
   "execution_count": 163,
   "id": "f4f0fdc1-4775-461f-ad57-ccea8979fb5f",
   "metadata": {},
   "outputs": [],
   "source": [
    "import pandas as pd \n",
    "import matplotlib.pyplot as plt\n",
    "import seaborn as sns\n",
    "import numpy as np\n",
    "from pathlib import Path \n",
    "import pandas as pd\n",
    "import numpy as np\n",
    "import seaborn as sns\n",
    "import matplotlib.pyplot as plt\n",
    "from sklearn.impute import SimpleImputer, KNNImputer\n",
    "from sklearn.pipeline import Pipeline\n",
    "from sklearn.compose import ColumnTransformer\n",
    "from sklearn.preprocessing import OneHotEncoder, OrdinalEncoder, StandardScaler\n",
    "from sklearn.linear_model import LinearRegression\n",
    "from sklearn.model_selection import train_test_split,  ShuffleSplit, KFold, cross_validate\n",
    "from sklearn.metrics import mean_absolute_error, mean_squared_error, r2_score\n",
    "from sklearn.model_selection import cross_val_score, cross_val_predict\n",
    "from sklearn.linear_model import LogisticRegression\n",
    "from sklearn.neighbors import KNeighborsRegressor\n",
    "from sklearn.dummy import DummyRegressor\n",
    "from sklearn.svm import SVR\n",
    "from sklearn.inspection import permutation_importance\n",
    "from sklearn.metrics import accuracy_score, classification_report, confusion_matrix, f1_score, roc_auc_score\n",
    "from sklearn.ensemble import RandomForestClassifier\n",
    "from sklearn.neighbors import KNeighborsClassifier\n",
    "import joblib"
   ]
  },
  {
   "cell_type": "markdown",
   "id": "a86bc583-4606-42b0-8615-248a2402b0c4",
   "metadata": {},
   "source": [
    "#### Lendo arquivo"
   ]
  },
  {
   "cell_type": "code",
   "execution_count": 165,
   "id": "aefeb900-b8b1-4b7a-9149-a3c30cbe10c3",
   "metadata": {},
   "outputs": [
    {
     "data": {
      "text/html": [
       "<div>\n",
       "<style scoped>\n",
       "    .dataframe tbody tr th:only-of-type {\n",
       "        vertical-align: middle;\n",
       "    }\n",
       "\n",
       "    .dataframe tbody tr th {\n",
       "        vertical-align: top;\n",
       "    }\n",
       "\n",
       "    .dataframe thead th {\n",
       "        text-align: right;\n",
       "    }\n",
       "</style>\n",
       "<table border=\"1\" class=\"dataframe\">\n",
       "  <thead>\n",
       "    <tr style=\"text-align: right;\">\n",
       "      <th></th>\n",
       "      <th>total_bill</th>\n",
       "      <th>tip</th>\n",
       "      <th>sex</th>\n",
       "      <th>smoker</th>\n",
       "      <th>day</th>\n",
       "      <th>time</th>\n",
       "      <th>size</th>\n",
       "    </tr>\n",
       "  </thead>\n",
       "  <tbody>\n",
       "    <tr>\n",
       "      <th>0</th>\n",
       "      <td>16.99</td>\n",
       "      <td>1.01</td>\n",
       "      <td>Female</td>\n",
       "      <td>No</td>\n",
       "      <td>Sun</td>\n",
       "      <td>Dinner</td>\n",
       "      <td>2</td>\n",
       "    </tr>\n",
       "    <tr>\n",
       "      <th>1</th>\n",
       "      <td>10.34</td>\n",
       "      <td>1.66</td>\n",
       "      <td>Male</td>\n",
       "      <td>No</td>\n",
       "      <td>Sun</td>\n",
       "      <td>Dinner</td>\n",
       "      <td>3</td>\n",
       "    </tr>\n",
       "    <tr>\n",
       "      <th>2</th>\n",
       "      <td>21.01</td>\n",
       "      <td>3.50</td>\n",
       "      <td>Male</td>\n",
       "      <td>No</td>\n",
       "      <td>Sun</td>\n",
       "      <td>Dinner</td>\n",
       "      <td>3</td>\n",
       "    </tr>\n",
       "    <tr>\n",
       "      <th>3</th>\n",
       "      <td>23.68</td>\n",
       "      <td>3.31</td>\n",
       "      <td>Male</td>\n",
       "      <td>No</td>\n",
       "      <td>Sun</td>\n",
       "      <td>Dinner</td>\n",
       "      <td>2</td>\n",
       "    </tr>\n",
       "    <tr>\n",
       "      <th>4</th>\n",
       "      <td>24.59</td>\n",
       "      <td>3.61</td>\n",
       "      <td>Female</td>\n",
       "      <td>No</td>\n",
       "      <td>Sun</td>\n",
       "      <td>Dinner</td>\n",
       "      <td>4</td>\n",
       "    </tr>\n",
       "    <tr>\n",
       "      <th>...</th>\n",
       "      <td>...</td>\n",
       "      <td>...</td>\n",
       "      <td>...</td>\n",
       "      <td>...</td>\n",
       "      <td>...</td>\n",
       "      <td>...</td>\n",
       "      <td>...</td>\n",
       "    </tr>\n",
       "    <tr>\n",
       "      <th>239</th>\n",
       "      <td>29.03</td>\n",
       "      <td>5.92</td>\n",
       "      <td>Male</td>\n",
       "      <td>No</td>\n",
       "      <td>Sat</td>\n",
       "      <td>Dinner</td>\n",
       "      <td>3</td>\n",
       "    </tr>\n",
       "    <tr>\n",
       "      <th>240</th>\n",
       "      <td>27.18</td>\n",
       "      <td>2.00</td>\n",
       "      <td>Female</td>\n",
       "      <td>Yes</td>\n",
       "      <td>Sat</td>\n",
       "      <td>Dinner</td>\n",
       "      <td>2</td>\n",
       "    </tr>\n",
       "    <tr>\n",
       "      <th>241</th>\n",
       "      <td>22.67</td>\n",
       "      <td>2.00</td>\n",
       "      <td>Male</td>\n",
       "      <td>Yes</td>\n",
       "      <td>Sat</td>\n",
       "      <td>Dinner</td>\n",
       "      <td>2</td>\n",
       "    </tr>\n",
       "    <tr>\n",
       "      <th>242</th>\n",
       "      <td>17.82</td>\n",
       "      <td>1.75</td>\n",
       "      <td>Male</td>\n",
       "      <td>No</td>\n",
       "      <td>Sat</td>\n",
       "      <td>Dinner</td>\n",
       "      <td>2</td>\n",
       "    </tr>\n",
       "    <tr>\n",
       "      <th>243</th>\n",
       "      <td>18.78</td>\n",
       "      <td>3.00</td>\n",
       "      <td>Female</td>\n",
       "      <td>No</td>\n",
       "      <td>Thur</td>\n",
       "      <td>Dinner</td>\n",
       "      <td>2</td>\n",
       "    </tr>\n",
       "  </tbody>\n",
       "</table>\n",
       "<p>244 rows × 7 columns</p>\n",
       "</div>"
      ],
      "text/plain": [
       "     total_bill   tip     sex smoker   day    time  size\n",
       "0         16.99  1.01  Female     No   Sun  Dinner     2\n",
       "1         10.34  1.66    Male     No   Sun  Dinner     3\n",
       "2         21.01  3.50    Male     No   Sun  Dinner     3\n",
       "3         23.68  3.31    Male     No   Sun  Dinner     2\n",
       "4         24.59  3.61  Female     No   Sun  Dinner     4\n",
       "..          ...   ...     ...    ...   ...     ...   ...\n",
       "239       29.03  5.92    Male     No   Sat  Dinner     3\n",
       "240       27.18  2.00  Female    Yes   Sat  Dinner     2\n",
       "241       22.67  2.00    Male    Yes   Sat  Dinner     2\n",
       "242       17.82  1.75    Male     No   Sat  Dinner     2\n",
       "243       18.78  3.00  Female     No  Thur  Dinner     2\n",
       "\n",
       "[244 rows x 7 columns]"
      ]
     },
     "execution_count": 165,
     "metadata": {},
     "output_type": "execute_result"
    }
   ],
   "source": [
    "df= pd.read_csv(\"../data/raw/data.csv\")\n",
    "df"
   ]
  },
  {
   "cell_type": "markdown",
   "id": "ae0bef7a-2020-4680-878b-9b5873adb4d9",
   "metadata": {},
   "source": [
    "#### Tranzendo o dicionário"
   ]
  },
  {
   "cell_type": "code",
   "execution_count": 167,
   "id": "6dc556b1-946b-4650-a28d-8ebc08204716",
   "metadata": {},
   "outputs": [
    {
     "data": {
      "text/html": [
       "<div>\n",
       "<style scoped>\n",
       "    .dataframe tbody tr th:only-of-type {\n",
       "        vertical-align: middle;\n",
       "    }\n",
       "\n",
       "    .dataframe tbody tr th {\n",
       "        vertical-align: top;\n",
       "    }\n",
       "\n",
       "    .dataframe thead th {\n",
       "        text-align: right;\n",
       "    }\n",
       "</style>\n",
       "<table border=\"1\" class=\"dataframe\">\n",
       "  <thead>\n",
       "    <tr style=\"text-align: right;\">\n",
       "      <th></th>\n",
       "      <th>variavel</th>\n",
       "      <th>descricao</th>\n",
       "      <th>tipo</th>\n",
       "      <th>subtipo</th>\n",
       "    </tr>\n",
       "  </thead>\n",
       "  <tbody>\n",
       "    <tr>\n",
       "      <th>0</th>\n",
       "      <td>total_bill</td>\n",
       "      <td>Valor total da conta</td>\n",
       "      <td>quantitativa</td>\n",
       "      <td>contínua</td>\n",
       "    </tr>\n",
       "    <tr>\n",
       "      <th>1</th>\n",
       "      <td>tip</td>\n",
       "      <td>Gorjeta entregue ao garçom</td>\n",
       "      <td>quantitativa</td>\n",
       "      <td>contínua</td>\n",
       "    </tr>\n",
       "    <tr>\n",
       "      <th>2</th>\n",
       "      <td>sex</td>\n",
       "      <td>Gênero da pessoa pagante</td>\n",
       "      <td>qualitativa</td>\n",
       "      <td>nominal</td>\n",
       "    </tr>\n",
       "    <tr>\n",
       "      <th>3</th>\n",
       "      <td>smoker</td>\n",
       "      <td>Se o cliente é fumante ou não fumante</td>\n",
       "      <td>qualitativa</td>\n",
       "      <td>nominal</td>\n",
       "    </tr>\n",
       "    <tr>\n",
       "      <th>4</th>\n",
       "      <td>day</td>\n",
       "      <td>Dia da semana</td>\n",
       "      <td>qualitativa</td>\n",
       "      <td>cíclica</td>\n",
       "    </tr>\n",
       "    <tr>\n",
       "      <th>5</th>\n",
       "      <td>time</td>\n",
       "      <td>Se é almoço ou jantar</td>\n",
       "      <td>qualitativa</td>\n",
       "      <td>nominal</td>\n",
       "    </tr>\n",
       "    <tr>\n",
       "      <th>6</th>\n",
       "      <td>size</td>\n",
       "      <td>Tamanho do grupo de pessoas que frequentam o r...</td>\n",
       "      <td>quantitativa</td>\n",
       "      <td>discreta</td>\n",
       "    </tr>\n",
       "  </tbody>\n",
       "</table>\n",
       "</div>"
      ],
      "text/plain": [
       "     variavel                                          descricao  \\\n",
       "0  total_bill                               Valor total da conta   \n",
       "1         tip                         Gorjeta entregue ao garçom   \n",
       "2         sex                           Gênero da pessoa pagante   \n",
       "3      smoker              Se o cliente é fumante ou não fumante   \n",
       "4         day                                      Dia da semana   \n",
       "5        time                              Se é almoço ou jantar   \n",
       "6        size  Tamanho do grupo de pessoas que frequentam o r...   \n",
       "\n",
       "           tipo   subtipo  \n",
       "0  quantitativa  contínua  \n",
       "1  quantitativa  contínua  \n",
       "2   qualitativa   nominal  \n",
       "3   qualitativa   nominal  \n",
       "4   qualitativa   cíclica  \n",
       "5   qualitativa   nominal  \n",
       "6  quantitativa  discreta  "
      ]
     },
     "execution_count": 167,
     "metadata": {},
     "output_type": "execute_result"
    }
   ],
   "source": [
    "data_path = Path('../data/external/dictionary.csv')\n",
    "df_dictionary = pd.read_csv(data_path, sep=',') \n",
    "df_dictionary"
   ]
  },
  {
   "cell_type": "markdown",
   "id": "ca0293d7-12af-4b73-a439-c930638a3823",
   "metadata": {},
   "source": [
    "#### Informações do dataset"
   ]
  },
  {
   "cell_type": "code",
   "execution_count": 169,
   "id": "d2cede3c-c8d3-4ca9-9ef1-3c1b86628b77",
   "metadata": {},
   "outputs": [
    {
     "name": "stdout",
     "output_type": "stream",
     "text": [
      "<class 'pandas.core.frame.DataFrame'>\n",
      "RangeIndex: 244 entries, 0 to 243\n",
      "Data columns (total 7 columns):\n",
      " #   Column      Non-Null Count  Dtype  \n",
      "---  ------      --------------  -----  \n",
      " 0   total_bill  244 non-null    float64\n",
      " 1   tip         244 non-null    float64\n",
      " 2   sex         244 non-null    object \n",
      " 3   smoker      244 non-null    object \n",
      " 4   day         244 non-null    object \n",
      " 5   time        244 non-null    object \n",
      " 6   size        244 non-null    int64  \n",
      "dtypes: float64(2), int64(1), object(4)\n",
      "memory usage: 13.5+ KB\n"
     ]
    }
   ],
   "source": [
    "df.info()"
   ]
  },
  {
   "cell_type": "markdown",
   "id": "1c04123e-d7d3-4fba-9d42-42d025a1ab72",
   "metadata": {},
   "source": [
    "### Avaliando explicitamente se há brancos e nulos "
   ]
  },
  {
   "cell_type": "code",
   "execution_count": 171,
   "id": "de5f7b76-1354-4ba1-bcf7-106d6d41a96b",
   "metadata": {},
   "outputs": [
    {
     "data": {
      "text/plain": [
       "total_bill    0\n",
       "tip           0\n",
       "sex           0\n",
       "smoker        0\n",
       "day           0\n",
       "time          0\n",
       "size          0\n",
       "dtype: int64"
      ]
     },
     "execution_count": 171,
     "metadata": {},
     "output_type": "execute_result"
    }
   ],
   "source": [
    "df.isnull().sum()"
   ]
  },
  {
   "cell_type": "markdown",
   "id": "d05973d5-5ea8-42f4-a3fe-d6bcf85d4de8",
   "metadata": {},
   "source": [
    "#### Verificando duplicatas"
   ]
  },
  {
   "cell_type": "code",
   "execution_count": 173,
   "id": "cf3e4b6f-b3be-4624-bbd6-42b94057440c",
   "metadata": {},
   "outputs": [
    {
     "name": "stdout",
     "output_type": "stream",
     "text": [
      "Número de linhas duplicadas: 1\n",
      "Linhas duplicadas:      total_bill  tip     sex smoker   day   time  size\n",
      "202        13.0  2.0  Female    Yes  Thur  Lunch     2\n"
     ]
    }
   ],
   "source": [
    "duplicados = df.duplicated()\n",
    "\n",
    "# Exibindo as linhas duplicadas\n",
    "linhas_duplicadas = df[duplicados]\n",
    "\n",
    "# Mostrando o número de duplicados\n",
    "num_duplicados = linhas_duplicadas.shape[0]\n",
    "\n",
    "# Exibindo as informações\n",
    "print(f\"Número de linhas duplicadas: {num_duplicados}\")\n",
    "print(f\"Linhas duplicadas: {linhas_duplicadas}\")"
   ]
  },
  {
   "cell_type": "markdown",
   "id": "744c8e0b-1de7-4a1e-a6e0-19eac7890a06",
   "metadata": {},
   "source": [
    "#### Removendo duplicada"
   ]
  },
  {
   "cell_type": "code",
   "execution_count": 175,
   "id": "56ff9703-e665-4e52-875d-7e5dfc40297a",
   "metadata": {},
   "outputs": [],
   "source": [
    "df = df.drop_duplicates()"
   ]
  },
  {
   "cell_type": "markdown",
   "id": "ab0c1c12-58a4-464a-9b06-4eaca7322e07",
   "metadata": {},
   "source": [
    "#### Análise geral de dados categóricos"
   ]
  },
  {
   "cell_type": "code",
   "execution_count": 177,
   "id": "bfa2373d-0aba-4db4-b683-18124294c5bb",
   "metadata": {},
   "outputs": [
    {
     "name": "stdout",
     "output_type": "stream",
     "text": [
      "Tabela de características das variáveis qualitativas:\n",
      "\n"
     ]
    },
    {
     "data": {
      "text/html": [
       "<div>\n",
       "<style scoped>\n",
       "    .dataframe tbody tr th:only-of-type {\n",
       "        vertical-align: middle;\n",
       "    }\n",
       "\n",
       "    .dataframe tbody tr th {\n",
       "        vertical-align: top;\n",
       "    }\n",
       "\n",
       "    .dataframe thead th {\n",
       "        text-align: right;\n",
       "    }\n",
       "</style>\n",
       "<table border=\"1\" class=\"dataframe\">\n",
       "  <thead>\n",
       "    <tr style=\"text-align: right;\">\n",
       "      <th></th>\n",
       "      <th>sex</th>\n",
       "      <th>smoker</th>\n",
       "      <th>day</th>\n",
       "      <th>time</th>\n",
       "    </tr>\n",
       "  </thead>\n",
       "  <tbody>\n",
       "    <tr>\n",
       "      <th>count</th>\n",
       "      <td>243</td>\n",
       "      <td>243</td>\n",
       "      <td>243</td>\n",
       "      <td>243</td>\n",
       "    </tr>\n",
       "    <tr>\n",
       "      <th>unique</th>\n",
       "      <td>2</td>\n",
       "      <td>2</td>\n",
       "      <td>4</td>\n",
       "      <td>2</td>\n",
       "    </tr>\n",
       "    <tr>\n",
       "      <th>top</th>\n",
       "      <td>Male</td>\n",
       "      <td>No</td>\n",
       "      <td>Sat</td>\n",
       "      <td>Dinner</td>\n",
       "    </tr>\n",
       "    <tr>\n",
       "      <th>freq</th>\n",
       "      <td>157</td>\n",
       "      <td>151</td>\n",
       "      <td>87</td>\n",
       "      <td>176</td>\n",
       "    </tr>\n",
       "  </tbody>\n",
       "</table>\n",
       "</div>"
      ],
      "text/plain": [
       "         sex smoker  day    time\n",
       "count    243    243  243     243\n",
       "unique     2      2    4       2\n",
       "top     Male     No  Sat  Dinner\n",
       "freq     157    151   87     176"
      ]
     },
     "execution_count": 177,
     "metadata": {},
     "output_type": "execute_result"
    }
   ],
   "source": [
    "print(\"Tabela de características das variáveis qualitativas:\\n\")\n",
    "df.describe(include=['object'])"
   ]
  },
  {
   "cell_type": "markdown",
   "id": "fdc45aa9-3a60-4edb-9699-5a21cc0bbc1e",
   "metadata": {},
   "source": [
    "#### Análise geral de dados númericos\n"
   ]
  },
  {
   "cell_type": "code",
   "execution_count": 179,
   "id": "163e537b-81fe-4c90-9273-376f7bf5cbd6",
   "metadata": {},
   "outputs": [
    {
     "name": "stdout",
     "output_type": "stream",
     "text": [
      "Tabela de características das variáveis quantitativas:\n",
      "\n"
     ]
    },
    {
     "data": {
      "text/html": [
       "<div>\n",
       "<style scoped>\n",
       "    .dataframe tbody tr th:only-of-type {\n",
       "        vertical-align: middle;\n",
       "    }\n",
       "\n",
       "    .dataframe tbody tr th {\n",
       "        vertical-align: top;\n",
       "    }\n",
       "\n",
       "    .dataframe thead th {\n",
       "        text-align: right;\n",
       "    }\n",
       "</style>\n",
       "<table border=\"1\" class=\"dataframe\">\n",
       "  <thead>\n",
       "    <tr style=\"text-align: right;\">\n",
       "      <th></th>\n",
       "      <th>total_bill</th>\n",
       "      <th>tip</th>\n",
       "      <th>size</th>\n",
       "    </tr>\n",
       "  </thead>\n",
       "  <tbody>\n",
       "    <tr>\n",
       "      <th>count</th>\n",
       "      <td>243.00</td>\n",
       "      <td>243.00</td>\n",
       "      <td>243.00</td>\n",
       "    </tr>\n",
       "    <tr>\n",
       "      <th>mean</th>\n",
       "      <td>19.81</td>\n",
       "      <td>3.00</td>\n",
       "      <td>2.57</td>\n",
       "    </tr>\n",
       "    <tr>\n",
       "      <th>std</th>\n",
       "      <td>8.91</td>\n",
       "      <td>1.39</td>\n",
       "      <td>0.95</td>\n",
       "    </tr>\n",
       "    <tr>\n",
       "      <th>min</th>\n",
       "      <td>3.07</td>\n",
       "      <td>1.00</td>\n",
       "      <td>1.00</td>\n",
       "    </tr>\n",
       "    <tr>\n",
       "      <th>25%</th>\n",
       "      <td>13.38</td>\n",
       "      <td>2.00</td>\n",
       "      <td>2.00</td>\n",
       "    </tr>\n",
       "    <tr>\n",
       "      <th>50%</th>\n",
       "      <td>17.81</td>\n",
       "      <td>2.92</td>\n",
       "      <td>2.00</td>\n",
       "    </tr>\n",
       "    <tr>\n",
       "      <th>75%</th>\n",
       "      <td>24.17</td>\n",
       "      <td>3.58</td>\n",
       "      <td>3.00</td>\n",
       "    </tr>\n",
       "    <tr>\n",
       "      <th>max</th>\n",
       "      <td>50.81</td>\n",
       "      <td>10.00</td>\n",
       "      <td>6.00</td>\n",
       "    </tr>\n",
       "  </tbody>\n",
       "</table>\n",
       "</div>"
      ],
      "text/plain": [
       "       total_bill     tip    size\n",
       "count      243.00  243.00  243.00\n",
       "mean        19.81    3.00    2.57\n",
       "std          8.91    1.39    0.95\n",
       "min          3.07    1.00    1.00\n",
       "25%         13.38    2.00    2.00\n",
       "50%         17.81    2.92    2.00\n",
       "75%         24.17    3.58    3.00\n",
       "max         50.81   10.00    6.00"
      ]
     },
     "execution_count": 179,
     "metadata": {},
     "output_type": "execute_result"
    }
   ],
   "source": [
    "print(\"Tabela de características das variáveis quantitativas:\\n\")\n",
    "df.describe().round(2)"
   ]
  },
  {
   "cell_type": "markdown",
   "id": "8904e581-40e4-46ec-8557-b027d311d282",
   "metadata": {},
   "source": [
    "##### Verificando valores discrepantes (Detectando outliers em cada coluna numérica)"
   ]
  },
  {
   "cell_type": "code",
   "execution_count": 181,
   "id": "d3abf84c-df2d-4e1f-bd1c-52ca4f15cf08",
   "metadata": {},
   "outputs": [
    {
     "name": "stdout",
     "output_type": "stream",
     "text": [
      "Outliers na coluna \n",
      "total_bill:\n",
      "      total_bill    tip     sex smoker   day    time  size\n",
      "59        48.27   6.73    Male     No   Sat  Dinner     4\n",
      "102       44.30   2.50  Female    Yes   Sat  Dinner     3\n",
      "142       41.19   5.00    Male     No  Thur   Lunch     5\n",
      "156       48.17   5.00    Male     No   Sun  Dinner     6\n",
      "170       50.81  10.00    Male    Yes   Sat  Dinner     3\n",
      "182       45.35   3.50    Male    Yes   Sun  Dinner     3\n",
      "184       40.55   3.00    Male    Yes   Sun  Dinner     2\n",
      "197       43.11   5.00  Female    Yes  Thur   Lunch     4\n",
      "212       48.33   9.00    Male     No   Sat  Dinner     4\n",
      "Outliers na coluna \n",
      "tip:\n",
      "      total_bill    tip     sex smoker   day    time  size\n",
      "23        39.42   7.58    Male     No   Sat  Dinner     4\n",
      "47        32.40   6.00    Male     No   Sun  Dinner     4\n",
      "59        48.27   6.73    Male     No   Sat  Dinner     4\n",
      "141       34.30   6.70    Male     No  Thur   Lunch     6\n",
      "170       50.81  10.00    Male    Yes   Sat  Dinner     3\n",
      "183       23.17   6.50    Male    Yes   Sun  Dinner     4\n",
      "212       48.33   9.00    Male     No   Sat  Dinner     4\n",
      "214       28.17   6.50  Female    Yes   Sat  Dinner     3\n",
      "Outliers na coluna \n",
      "size:\n",
      "      total_bill   tip     sex smoker   day    time  size\n",
      "125       29.80  4.20  Female     No  Thur   Lunch     6\n",
      "141       34.30  6.70    Male     No  Thur   Lunch     6\n",
      "142       41.19  5.00    Male     No  Thur   Lunch     5\n",
      "143       27.05  5.00  Female     No  Thur   Lunch     6\n",
      "155       29.85  5.14  Female     No   Sun  Dinner     5\n",
      "156       48.17  5.00    Male     No   Sun  Dinner     6\n",
      "185       20.69  5.00    Male     No   Sun  Dinner     5\n",
      "187       30.46  2.00    Male    Yes   Sun  Dinner     5\n",
      "216       28.15  3.00    Male    Yes   Sat  Dinner     5\n"
     ]
    }
   ],
   "source": [
    "numericas = df.select_dtypes(include='number')\n",
    "\n",
    "outliers = {}\n",
    "for coluna in numericas.columns:\n",
    "    Q1 = numericas[coluna].quantile(0.25)\n",
    "    Q3 = numericas[coluna].quantile(0.75)\n",
    "    IQR = Q3 - Q1\n",
    "    limite_inferior = Q1 - 1.5 * IQR\n",
    "    limite_superior = Q3 + 1.5 * IQR\n",
    "\n",
    "    # Filtrar valores fora dos limites\n",
    "    outliers[coluna] = df[(numericas[coluna] < limite_inferior) | (numericas[coluna] > limite_superior)]\n",
    "\n",
    "for coluna, valores in outliers.items():\n",
    "    print(f\"Outliers na coluna \\n{coluna}:\\n\", valores)"
   ]
  },
  {
   "cell_type": "markdown",
   "id": "bd6dc509-d105-4708-ab02-8d0dc7383bb3",
   "metadata": {},
   "source": [
    "#### Estruturação de variável\n",
    "- Variáveis categóricas são convertidas para o tipo categoryline"
   ]
  },
  {
   "cell_type": "code",
   "execution_count": 183,
   "id": "0488f91f-a446-45fe-bb0c-feee91d2da29",
   "metadata": {},
   "outputs": [
    {
     "name": "stdout",
     "output_type": "stream",
     "text": [
      "total_bill     float64\n",
      "tip            float64\n",
      "sex           category\n",
      "smoker        category\n",
      "day           category\n",
      "time          category\n",
      "size             int64\n",
      "dtype: object\n"
     ]
    }
   ],
   "source": [
    "df = df.astype({col: 'category' for col in df.select_dtypes(include='object').columns})\n",
    "\n",
    "print(df.dtypes)"
   ]
  },
  {
   "cell_type": "code",
   "execution_count": 184,
   "id": "4a996ee7-17b3-4958-89ac-69ffd44a034a",
   "metadata": {},
   "outputs": [
    {
     "data": {
      "image/png": "[encoded data removed]",
      "text/plain": [
       "<Figure size 1000x400 with 2 Axes>"
      ]
     },
     "metadata": {},
     "output_type": "display_data"
    }
   ],
   "source": [
    "# Calcula a matriz de correlação\n",
    "corr = df.corr(numeric_only=True)\n",
    "features = corr.index\n",
    "\n",
    "# Cria o gráfico de calor\n",
    "plt.figure(figsize=(10, 4))\n",
    "ax = sns.heatmap(df[features].corr(), annot=True, cmap='BuGn')\n",
    "plt.show()"
   ]
  },
  {
   "cell_type": "markdown",
   "id": "6809bb7e-3e5d-4b09-b036-46264c4ebcc7",
   "metadata": {},
   "source": [
    "#### Separando a variável X (Tip) das variáveis Y(total_bill e size)\n",
    "*coluna independente (X) e dependentes (Y) como argumentos"
   ]
  },
  {
   "cell_type": "code",
   "execution_count": 209,
   "id": "100731c3-75c2-4c12-b651-e80bc0d90b38",
   "metadata": {},
   "outputs": [],
   "source": [
    "# Definindo a variável-alvo\n",
    "target_variable = 'tip'\n",
    "\n",
    "# Identificando variáveis inúteis (nenhuma nesse caso)\n",
    "useless_variables = (\n",
    "    df_dictionary\n",
    "    .query(\"tipo == 'inútil'\")\n",
    "    .variavel\n",
    "    .to_list()\n",
    ")\n",
    "\n",
    "# Variáveis nominais \n",
    "nominal_variables = (\n",
    "    df_dictionary\n",
    "    .query(\"subtipo == 'nominal' and variavel != @target_variable\")\n",
    "    .variavel\n",
    "    .to_list()\n",
    ")\n",
    "\n",
    "# Variáveis contínuas\n",
    "continuous_variables = (\n",
    "    df_dictionary\n",
    "    .query(\"subtipo == 'contínua' and variavel != @target_variable\")\n",
    "    .variavel\n",
    "    .to_list()\n",
    ")\n",
    "\n",
    "# Variáveis discretas\n",
    "discrete_variables = (\n",
    "    df_dictionary\n",
    "    .query(\"subtipo == 'discreta' and variavel != @target_variable\")\n",
    "    .variavel\n",
    "    .to_list()\n",
    ")\n",
    "\n",
    "# Separando X e y para o modelo\n",
    "X = df.drop(columns=[target_variable] + useless_variables)\n",
    "y = df[target_variable]\n"
   ]
  },
  {
   "cell_type": "code",
   "execution_count": 211,
   "id": "1854be87-c4ee-40f2-b0fc-3840c0acbc4a",
   "metadata": {},
   "outputs": [
    {
     "name": "stdout",
     "output_type": "stream",
     "text": [
      "Variáveis nominais: ['sex', 'smoker', 'time']\n",
      "Variáveis contínuas: ['total_bill']\n",
      "Variáveis discretas: ['size']\n",
      "\n",
      "X (features):\n",
      "      total_bill     sex smoker   day    time  size\n",
      "0         16.99  Female     No   Sun  Dinner     2\n",
      "1         10.34    Male     No   Sun  Dinner     3\n",
      "2         21.01    Male     No   Sun  Dinner     3\n",
      "3         23.68    Male     No   Sun  Dinner     2\n",
      "4         24.59  Female     No   Sun  Dinner     4\n",
      "..          ...     ...    ...   ...     ...   ...\n",
      "239       29.03    Male     No   Sat  Dinner     3\n",
      "240       27.18  Female    Yes   Sat  Dinner     2\n",
      "241       22.67    Male    Yes   Sat  Dinner     2\n",
      "242       17.82    Male     No   Sat  Dinner     2\n",
      "243       18.78  Female     No  Thur  Dinner     2\n",
      "\n",
      "[243 rows x 6 columns]\n",
      "\n",
      "y (target):\n",
      " 0      1.01\n",
      "1      1.66\n",
      "2      3.50\n",
      "3      3.31\n",
      "4      3.61\n",
      "       ... \n",
      "239    5.92\n",
      "240    2.00\n",
      "241    2.00\n",
      "242    1.75\n",
      "243    3.00\n",
      "Name: tip, Length: 243, dtype: float64\n"
     ]
    }
   ],
   "source": [
    "print(\"Variáveis nominais:\", nominal_variables)\n",
    "print(\"Variáveis contínuas:\", continuous_variables)\n",
    "print(\"Variáveis discretas:\", discrete_variables)\n",
    "print(\"\\nX (features):\\n\", X)\n",
    "print(\"\\ny (target):\\n\", y)"
   ]
  },
  {
   "cell_type": "markdown",
   "id": "fa158a27-a865-4feb-82a7-1634eb63cf46",
   "metadata": {},
   "source": [
    "#### Pipelines de pré-processamento por tipo de variável:"
   ]
  },
  {
   "cell_type": "code",
   "execution_count": 213,
   "id": "5df172af-e33f-42bd-9029-cad5ee6046ad",
   "metadata": {},
   "outputs": [],
   "source": [
    "nominal_preprocessor = Pipeline(steps=[\n",
    "    (\"missing\", SimpleImputer(strategy='most_frequent')),  # Substituir valores faltantes pela moda\n",
    "    (\"encoding\", OneHotEncoder(sparse_output=False)),  # Codificação one-hot\n",
    "])\n",
    "\n",
    "continuous_preprocessor = Pipeline(steps=[\n",
    "    (\"missing\", SimpleImputer(strategy='mean')),  # Substituir valores faltantes pela média\n",
    "    (\"normalization\", StandardScaler()),  # Normalização (média = 0, desvio padrão = 1)\n",
    "])\n",
    "\n",
    "discrete_preprocessor = Pipeline(steps=[\n",
    "    (\"missing\", KNNImputer()),  # Substituir valores faltantes com base nos vizinhos mais próximos\n",
    "    (\"normalization\", StandardScaler()),  # Normalização\n",
    "])"
   ]
  },
  {
   "cell_type": "markdown",
   "id": "f2e315ad-a73a-4f30-81bc-5eb5778c38c4",
   "metadata": {},
   "source": [
    "#### Selecionando variáveis com base no dados do dicionário:"
   ]
  },
  {
   "cell_type": "code",
   "execution_count": 215,
   "id": "27de4fd6-04d5-41e4-ac67-e33a95185b1f",
   "metadata": {},
   "outputs": [],
   "source": [
    "# Criando o transformador por tipo de variável\n",
    "preprocessor = ColumnTransformer(transformers=[\n",
    "    (\"nominal\", nominal_preprocessor, nominal_variables),\n",
    "    (\"continuous\", continuous_preprocessor, continuous_variables),\n",
    "    (\"discrete\", discrete_preprocessor, discrete_variables),\n",
    "])"
   ]
  },
  {
   "cell_type": "code",
   "execution_count": 217,
   "id": "a6c1b105-48ed-46ca-8540-322402c6acbf",
   "metadata": {},
   "outputs": [],
   "source": [
    "X_preprocessed = preprocessor.fit_transform(X)"
   ]
  },
  {
   "cell_type": "code",
   "execution_count": 219,
   "id": "b8cfbd3c-ae3d-4f57-81bf-9b8737778c09",
   "metadata": {},
   "outputs": [
    {
     "name": "stdout",
     "output_type": "stream",
     "text": [
      "Dados pré-processados:\n",
      "[[ 1.          0.          1.         ...  0.         -0.31758409\n",
      "  -0.60187261]\n",
      " [ 0.          1.          1.         ...  0.         -1.06547102\n",
      "   0.45032195]\n",
      " [ 0.          1.          1.         ...  0.          0.13452199\n",
      "   0.45032195]\n",
      " ...\n",
      " [ 0.          1.          0.         ...  0.          0.32121257\n",
      "  -0.60187261]\n",
      " [ 0.          1.          1.         ...  0.         -0.2242388\n",
      "  -0.60187261]\n",
      " [ 1.          0.          1.         ...  0.         -0.11627317\n",
      "  -0.60187261]]\n"
     ]
    }
   ],
   "source": [
    "print(\"Dados pré-processados:\")\n",
    "print(X_preprocessed)"
   ]
  },
  {
   "cell_type": "markdown",
   "id": "f5f5bb92-c5d1-44d6-98e2-cad652a86d17",
   "metadata": {},
   "source": [
    "* Este notebook executa a limpeza e preparação de dados, lida com valores ausentes, outliers e codificação de variáveis categóricas. O uso de pipelines do scikit-learn tornou o processo mais organizado e eficiente."
   ]
  },
  {
   "cell_type": "code",
   "execution_count": null,
   "id": "4b712d1d-405e-4a7a-b96f-4fcb7b522dc8",
   "metadata": {},
   "outputs": [],
   "source": []
  }
 ],
 "metadata": {
  "kernelspec": {
   "display_name": "Python 3 (ipykernel)",
   "language": "python",
   "name": "python3"
  },
  "language_info": {
   "codemirror_mode": {
    "name": "ipython",
    "version": 3
   },
   "file_extension": ".py",
   "mimetype": "text/x-python",
   "name": "python",
   "nbconvert_exporter": "python",
   "pygments_lexer": "ipython3",
   "version": "3.12.3"
  }
 },
 "nbformat": 4,
 "nbformat_minor": 5
}
