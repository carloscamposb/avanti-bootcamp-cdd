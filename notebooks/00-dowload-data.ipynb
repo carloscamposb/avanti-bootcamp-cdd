{
 "cells": [
  {
   "cell_type": "markdown",
   "id": "e601d453-3ef0-4222-8604-37355332884d",
   "metadata": {},
   "source": [
    "## Análise dos Fatores que Influenciam Gorjetas em Restaurantes (Estudo de Caso) 💸"
   ]
  },
  {
   "cell_type": "markdown",
   "id": "896e98a4-82c5-4027-943d-d02f26638ffa",
   "metadata": {},
   "source": [
    "#### Importando biblioteca"
   ]
  },
  {
   "cell_type": "code",
   "execution_count": 3,
   "id": "6915997f-84b5-4258-b291-553d42e0ed01",
   "metadata": {},
   "outputs": [],
   "source": [
    "import pandas as pd"
   ]
  },
  {
   "cell_type": "code",
   "execution_count": 5,
   "id": "9db5a537-a295-449c-9787-dd3247379c1a",
   "metadata": {},
   "outputs": [],
   "source": [
    "df= pd.read_csv(\"https://raw.githubusercontent.com/atlantico-academy/datasets/refs/heads/main/tips.csv\")\n",
    "df=df.to_csv('../data/raw/data.csv', index=False)"
   ]
  },
  {
   "cell_type": "code",
   "execution_count": 7,
   "id": "bf6fadb4-6a77-461d-8dd1-85a19c784189",
   "metadata": {},
   "outputs": [],
   "source": [
    "import pandas as pd\n",
    "\n",
    "data_dictionary = pd.DataFrame([ \n",
    "    {\n",
    "      'variavel': 'total_bill',\n",
    "      'descricao': 'Valor total da conta',\n",
    "      'tipo': 'quantitativa',\n",
    "      'subtipo': 'contínua'\n",
    "    },\n",
    "    {\n",
    "      'variavel': 'tip',\n",
    "      'descricao': 'Gorjeta entregue ao garçom',\n",
    "      'tipo': 'quantitativa',\n",
    "      'subtipo': 'contínua'\n",
    "    },\n",
    "    {\n",
    "      'variavel': 'sex',\n",
    "      'descricao': 'Gênero da pessoa pagante',\n",
    "      'tipo': 'qualitativa',\n",
    "      'subtipo': 'nominal'\n",
    "    },\n",
    "    {\n",
    "      'variavel': 'smoker',\n",
    "      'descricao': 'Se o cliente é fumante ou não fumante',\n",
    "      'tipo': 'qualitativa',\n",
    "      'subtipo': 'nominal'\n",
    "    },\n",
    "    {\n",
    "      'variavel': 'day',\n",
    "      'descricao': 'Dia da semana',\n",
    "      'tipo': 'qualitativa',\n",
    "      'subtipo': 'cíclica'\n",
    "    },\n",
    "    {\n",
    "      'variavel': 'time',\n",
    "      'descricao': 'Se é almoço ou jantar',\n",
    "      'tipo': 'qualitativa',\n",
    "      'subtipo': 'nominal'\n",
    "    },\n",
    "    {\n",
    "      'variavel': 'size',\n",
    "      'descricao': 'Tamanho do grupo de pessoas que frequentam o restaurante',\n",
    "      'tipo': 'quantitativa',\n",
    "      'subtipo': 'discreta'\n",
    "    }\n",
    "])\n",
    "\n",
    "\n",
    "data_dictionary.to_csv('../data/external/dictionary.csv', index=False)"
   ]
  },
  {
   "cell_type": "code",
   "execution_count": null,
   "id": "1390fa05-ba53-4de8-864e-281191e0012f",
   "metadata": {},
   "outputs": [],
   "source": [
    "data_dictionary"
   ]
  }
 ],
 "metadata": {
  "kernelspec": {
   "display_name": "Python 3 (ipykernel)",
   "language": "python",
   "name": "python3"
  },
  "language_info": {
   "codemirror_mode": {
    "name": "ipython",
    "version": 3
   },
   "file_extension": ".py",
   "mimetype": "text/x-python",
   "name": "python",
   "nbconvert_exporter": "python",
   "pygments_lexer": "ipython3",
   "version": "3.12.3"
  }
 },
 "nbformat": 4,
 "nbformat_minor": 5
}
