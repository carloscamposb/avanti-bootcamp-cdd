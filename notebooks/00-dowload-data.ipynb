{
 "cells": [
  {
   "cell_type": "markdown",
   "id": "e601d453-3ef0-4222-8604-37355332884d",
   "metadata": {},
   "source": [
    "## Análise dos Fatores que Influenciam Gorjetas em Restaurantes (Estudo de Caso) 💸"
   ]
  },
  {
   "cell_type": "markdown",
   "id": "896e98a4-82c5-4027-943d-d02f26638ffa",
   "metadata": {},
   "source": [
    "#### Importando biblioteca"
   ]
  },
  {
   "cell_type": "code",
   "execution_count": 3,
   "id": "6915997f-84b5-4258-b291-553d42e0ed01",
   "metadata": {},
   "outputs": [],
   "source": [
    "import pandas as pd"
   ]
  },
  {
   "cell_type": "code",
   "execution_count": 5,
   "id": "9db5a537-a295-449c-9787-dd3247379c1a",
   "metadata": {},
   "outputs": [],
   "source": [
    "df= pd.read_csv(\"https://raw.githubusercontent.com/atlantico-academy/datasets/refs/heads/main/tips.csv\")\n",
    "df=df.to_csv('../data/raw/data.csv', index=False)"
   ]
  },
  {
   "cell_type": "code",
   "execution_count": 7,
   "id": "bf6fadb4-6a77-461d-8dd1-85a19c784189",
   "metadata": {},
   "outputs": [],
   "source": [
    "import pandas as pd\n",
    "\n",
    "data_dictionary = pd.DataFrame([ \n",
    "    {\n",
    "      'variavel': 'total_bill',\n",
    "      'descricao': 'Valor total da conta',\n",
    "      'tipo': 'quantitativa',\n",
    "      'subtipo': 'contínua'\n",
    "    },\n",
    "    {\n",
    "      'variavel': 'tip',\n",
    "      'descricao': 'Gorjeta entregue ao garçom',\n",
    "      'tipo': 'quantitativa',\n",
    "      'subtipo': 'contínua'\n",
    "    },\n",
    "    {\n",
    "      'variavel': 'sex',\n",
    "      'descricao': 'Gênero da pessoa pagante',\n",
    "      'tipo': 'qualitativa',\n",
    "      'subtipo': 'nominal'\n",
    "    },\n",
    "    {\n",
    "      'variavel': 'smoker',\n",
    "      'descricao': 'Se o cliente é fumante ou não fumante',\n",
    "      'tipo': 'qualitativa',\n",
    "      'subtipo': 'nominal'\n",
    "    },\n",
    "    {\n",
    "      'variavel': 'day',\n",
    "      'descricao': 'Dia da semana',\n",
    "      'tipo': 'qualitativa',\n",
    "      'subtipo': 'cíclica'\n",
    "    },\n",
    "    {\n",
    "      'variavel': 'time',\n",
    "      'descricao': 'Se é almoço ou jantar',\n",
    "      'tipo': 'qualitativa',\n",
    "      'subtipo': 'nominal'\n",
    "    },\n",
    "    {\n",
    "      'variavel': 'size',\n",
    "      'descricao': 'Tamanho do grupo de pessoas que frequentam o restaurante',\n",
    "      'tipo': 'quantitativa',\n",
    "      'subtipo': 'discreta'\n",
    "    }\n",
    "])\n",
    "\n",
    "\n",
    "data_dictionary.to_csv('../data/external/dictionary.csv', index=False)"
   ]
  },
  {
   "cell_type": "code",
   "execution_count": 9,
   "id": "1390fa05-ba53-4de8-864e-281191e0012f",
   "metadata": {},
   "outputs": [
    {
     "data": {
      "text/html": [
       "<div>\n",
       "<style scoped>\n",
       "    .dataframe tbody tr th:only-of-type {\n",
       "        vertical-align: middle;\n",
       "    }\n",
       "\n",
       "    .dataframe tbody tr th {\n",
       "        vertical-align: top;\n",
       "    }\n",
       "\n",
       "    .dataframe thead th {\n",
       "        text-align: right;\n",
       "    }\n",
       "</style>\n",
       "<table border=\"1\" class=\"dataframe\">\n",
       "  <thead>\n",
       "    <tr style=\"text-align: right;\">\n",
       "      <th></th>\n",
       "      <th>variavel</th>\n",
       "      <th>descricao</th>\n",
       "      <th>tipo</th>\n",
       "      <th>subtipo</th>\n",
       "    </tr>\n",
       "  </thead>\n",
       "  <tbody>\n",
       "    <tr>\n",
       "      <th>0</th>\n",
       "      <td>total_bill</td>\n",
       "      <td>Valor total da conta</td>\n",
       "      <td>quantitativa</td>\n",
       "      <td>contínua</td>\n",
       "    </tr>\n",
       "    <tr>\n",
       "      <th>1</th>\n",
       "      <td>tip</td>\n",
       "      <td>Gorjeta entregue ao garçom</td>\n",
       "      <td>quantitativa</td>\n",
       "      <td>contínua</td>\n",
       "    </tr>\n",
       "    <tr>\n",
       "      <th>2</th>\n",
       "      <td>sex</td>\n",
       "      <td>Gênero da pessoa pagante</td>\n",
       "      <td>qualitativa</td>\n",
       "      <td>nominal</td>\n",
       "    </tr>\n",
       "    <tr>\n",
       "      <th>3</th>\n",
       "      <td>smoker</td>\n",
       "      <td>Se o cliente é fumante ou não fumante</td>\n",
       "      <td>qualitativa</td>\n",
       "      <td>nominal</td>\n",
       "    </tr>\n",
       "    <tr>\n",
       "      <th>4</th>\n",
       "      <td>day</td>\n",
       "      <td>Dia da semana</td>\n",
       "      <td>qualitativa</td>\n",
       "      <td>cíclica</td>\n",
       "    </tr>\n",
       "    <tr>\n",
       "      <th>5</th>\n",
       "      <td>time</td>\n",
       "      <td>Se é almoço ou jantar</td>\n",
       "      <td>qualitativa</td>\n",
       "      <td>nominal</td>\n",
       "    </tr>\n",
       "    <tr>\n",
       "      <th>6</th>\n",
       "      <td>size</td>\n",
       "      <td>Tamanho do grupo de pessoas que frequentam o r...</td>\n",
       "      <td>quantitativa</td>\n",
       "      <td>discreta</td>\n",
       "    </tr>\n",
       "  </tbody>\n",
       "</table>\n",
       "</div>"
      ],
      "text/plain": [
       "     variavel                                          descricao  \\\n",
       "0  total_bill                               Valor total da conta   \n",
       "1         tip                         Gorjeta entregue ao garçom   \n",
       "2         sex                           Gênero da pessoa pagante   \n",
       "3      smoker              Se o cliente é fumante ou não fumante   \n",
       "4         day                                      Dia da semana   \n",
       "5        time                              Se é almoço ou jantar   \n",
       "6        size  Tamanho do grupo de pessoas que frequentam o r...   \n",
       "\n",
       "           tipo   subtipo  \n",
       "0  quantitativa  contínua  \n",
       "1  quantitativa  contínua  \n",
       "2   qualitativa   nominal  \n",
       "3   qualitativa   nominal  \n",
       "4   qualitativa   cíclica  \n",
       "5   qualitativa   nominal  \n",
       "6  quantitativa  discreta  "
      ]
     },
     "execution_count": 9,
     "metadata": {},
     "output_type": "execute_result"
    }
   ],
   "source": [
    "data_dictionary"
   ]
  },
  {
   "cell_type": "code",
   "execution_count": null,
   "id": "73059cc0-f59d-43fc-b6f0-c25f53059994",
   "metadata": {},
   "outputs": [],
   "source": []
  }
 ],
 "metadata": {
  "kernelspec": {
   "display_name": "Python 3 (ipykernel)",
   "language": "python",
   "name": "python3"
  },
  "language_info": {
   "codemirror_mode": {
    "name": "ipython",
    "version": 3
   },
   "file_extension": ".py",
   "mimetype": "text/x-python",
   "name": "python",
   "nbconvert_exporter": "python",
   "pygments_lexer": "ipython3",
   "version": "3.12.3"
  }
 },
 "nbformat": 4,
 "nbformat_minor": 5
}
